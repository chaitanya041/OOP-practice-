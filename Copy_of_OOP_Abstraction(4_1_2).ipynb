{
  "nbformat": 4,
  "nbformat_minor": 0,
  "metadata": {
    "colab": {
      "name": "Copy of OOP-Abstraction(4-1-2).ipynb",
      "provenance": [],
      "collapsed_sections": [],
      "include_colab_link": true
    },
    "kernelspec": {
      "name": "python3",
      "display_name": "Python 3"
    },
    "language_info": {
      "name": "python"
    }
  },
  "cells": [
    {
      "cell_type": "markdown",
      "metadata": {
        "id": "view-in-github",
        "colab_type": "text"
      },
      "source": [
        "<a href=\"https://colab.research.google.com/github/chaitanya041/OOP-practice-/blob/main/Copy_of_OOP_Abstraction(4_1_2).ipynb\" target=\"_parent\"><img src=\"https://colab.research.google.com/assets/colab-badge.svg\" alt=\"Open In Colab\"/></a>"
      ]
    },
    {
      "cell_type": "markdown",
      "metadata": {
        "id": "UBYblCZZ_GMB"
      },
      "source": [
        "##Difference between Function and Method in Python :\n",
        "* How these two differ is that a function in Python is a group of statements that can be written individually in a Python program. You can call that function using its name and passing arguments if any.\n",
        "\n",
        "* A function that is written with in a class and called using an object of the class or using class name is known as method. A method in Python is implicitly passed the object on which it is called using self."
      ]
    },
    {
      "cell_type": "code",
      "metadata": {
        "id": "AC966pGa_SvW",
        "colab": {
          "base_uri": "https://localhost:8080/"
        },
        "outputId": "787afac6-2097-47ae-b655-611967a39b58"
      },
      "source": [
        "# Function Example\n",
        "def sum(a, b):\n",
        "  \"\"\"This function adds the passed values\"\"\"\n",
        "  sum = a + b\n",
        "  return sum\n",
        "\n",
        "# calling function\n",
        "result = sum(5, 6)\n",
        "print('Sum is', result)"
      ],
      "execution_count": 4,
      "outputs": [
        {
          "output_type": "stream",
          "name": "stdout",
          "text": [
            "Sum is None\n"
          ]
        }
      ]
    },
    {
      "cell_type": "code",
      "metadata": {
        "id": "Kumkxck6_WlS",
        "colab": {
          "base_uri": "https://localhost:8080/"
        },
        "outputId": "46fdf572-62f8-4e11-ec32-474debc318e7"
      },
      "source": [
        "# Method Example \n",
        "class Person:\n",
        "  '''Class Person displaying person information'''\n",
        "  #class variable\n",
        "  total = 0\n",
        "  def __init__(self, name, age):\n",
        "    print('init called')\n",
        "    self.name = name\n",
        "    self.age = age\n",
        "    Person.total +=1\n",
        "\n",
        "  def display(self):\n",
        "    print(self.name)\n",
        "    print(self.age)\n",
        "\n",
        "# creating class instances\n",
        "person1 = Person('Ram', 40)\n",
        "person1.display()\n",
        "person2 = Person('Sita', 32)\n",
        "person2.display()\n",
        "print('Count-', Person.total)"
      ],
      "execution_count": 14,
      "outputs": [
        {
          "output_type": "stream",
          "name": "stdout",
          "text": [
            "init called\n",
            "Ram\n",
            "40\n",
            "init called\n",
            "Sita\n",
            "32\n",
            "Count- 2\n"
          ]
        }
      ]
    },
    {
      "cell_type": "markdown",
      "metadata": {
        "id": "1I9CzNi6Dlg-"
      },
      "source": [
        "## Nested If in Python"
      ]
    },
    {
      "cell_type": "code",
      "metadata": {
        "colab": {
          "base_uri": "https://localhost:8080/"
        },
        "id": "kC49DOWrDpwL",
        "outputId": "328c2608-26da-4d70-98a0-322160c44ff4"
      },
      "source": [
        "def myfunction():\n",
        "    x = 65\n",
        "    if x >= 50:\n",
        "        # nested if statement\n",
        "        if x > 75 and x <= 99:\n",
        "            print('x is greater than 75 but less than 100')\n",
        "        elif x >= 50 and x <= 75:\n",
        "             print('x is greater than or equal to 50 but less than or equal to 75')\n",
        "        else:\n",
        "            print('x is greater than 100')\n",
        "    else:\n",
        "        print('x is less than 50')\n",
        "\n",
        "myfunction()"
      ],
      "execution_count": 17,
      "outputs": [
        {
          "output_type": "stream",
          "name": "stdout",
          "text": [
            "x is greater than or equal to 50 but less than or equal to 75\n"
          ]
        }
      ]
    },
    {
      "cell_type": "markdown",
      "metadata": {
        "id": "1PVZheAOD7Q2"
      },
      "source": [
        "## if with Break"
      ]
    },
    {
      "cell_type": "code",
      "metadata": {
        "id": "o1qvZjwGD-lG",
        "colab": {
          "base_uri": "https://localhost:8080/"
        },
        "outputId": "60354ec8-81f6-4b59-ddfc-2373008b4f7f"
      },
      "source": [
        "numbers = (89, 102, 0, 234, 67, 10, 333, 32)\n",
        "flag = False\n",
        "for num in numbers:\n",
        "    if num == 10:\n",
        "        flag = True\n",
        "        break\n",
        "if flag:\n",
        "    print('Number found in tuple')\n",
        "else:\n",
        "    print('Number not found in tuple')"
      ],
      "execution_count": 4,
      "outputs": [
        {
          "output_type": "stream",
          "name": "stdout",
          "text": [
            "Number found in tuple\n"
          ]
        }
      ]
    },
    {
      "cell_type": "markdown",
      "metadata": {
        "id": "6UNLpg9RC4H7"
      },
      "source": [
        "## User-defined exception in Python"
      ]
    },
    {
      "cell_type": "code",
      "metadata": {
        "id": "SeCYRAMNC22U",
        "colab": {
          "base_uri": "https://localhost:8080/"
        },
        "outputId": "6222a7f4-6c23-48a3-c173-e5a7bd959980"
      },
      "source": [
        "# Custom exception\n",
        "class InvalidAgeError(Exception):\n",
        "  def __init__(self, arg):\n",
        "    self.msg = arg\n",
        "\n",
        "def vote_eligibility(age):\n",
        "  if age < 18:\n",
        "    raise InvalidAgeError(\"Person not eligible to vote, age is \" + str(age))\n",
        "  else:\n",
        "    print('Person can vote, age is', age)\n",
        "\n",
        "# calling function\n",
        "try:\n",
        "  vote_eligibility(22)\n",
        "  vote_eligibility(14)\n",
        "except InvalidAgeError as error:\n",
        "  print(error)"
      ],
      "execution_count": 5,
      "outputs": [
        {
          "output_type": "stream",
          "name": "stdout",
          "text": [
            "Person can vote, age is 22\n",
            "Person not eligible to vote, age is 14\n"
          ]
        }
      ]
    },
    {
      "cell_type": "markdown",
      "metadata": {
        "id": "zowYBtlbAGpA"
      },
      "source": [
        "## Python exception handling example\n"
      ]
    },
    {
      "cell_type": "code",
      "metadata": {
        "id": "zoOTpsTEAHtc"
      },
      "source": [
        "def divide_num(num1, num2):\n",
        "  try:\n",
        "    print('Result-',num1/num2)\n",
        "  except ZeroDivisionError:\n",
        "    print('Division by zero')\n",
        "    print('Zero is not a valid argument here')\n",
        "  else:\n",
        "    print('in else block')\n",
        "\n",
        "divide_num(10, 0)\n",
        "divide_num(10, 2)\n"
      ],
      "execution_count": null,
      "outputs": []
    },
    {
      "cell_type": "markdown",
      "metadata": {
        "id": "m8oLXYgiA_Bg"
      },
      "source": [
        "## Assertion in Python"
      ]
    },
    {
      "cell_type": "code",
      "metadata": {
        "id": "-N9jUN9FBCo4"
      },
      "source": [
        "def divide(num1, num2):\n",
        "    assert num2 != 0, \"Second argument can't be passed as zero\"\n",
        "    result = num1/num2\n",
        "    print('Result-', result)\n",
        "\n",
        "divide(16, 0)"
      ],
      "execution_count": null,
      "outputs": []
    },
    {
      "cell_type": "markdown",
      "metadata": {
        "id": "3PTVhma3_Ryx"
      },
      "source": [
        ""
      ]
    },
    {
      "cell_type": "code",
      "metadata": {
        "colab": {
          "base_uri": "https://localhost:8080/"
        },
        "id": "1L45ReG3Bu0M",
        "outputId": "94f1638e-d074-4313-ee2b-65ba2b994b8b"
      },
      "source": [
        "## pass statements\n",
        "numbers = [89, 102, 0, 234, 67, 10, 333, 32]\n",
        "for num in numbers:\n",
        "    try:\n",
        "        result = 1000/num\n",
        "        print('Result is',result)\n",
        "    except ZeroDivisionError:\n",
        "        print('Division by Zero')\n",
        "        result = 0\n",
        "    except AttributeError:\n",
        "        pass"
      ],
      "execution_count": null,
      "outputs": [
        {
          "output_type": "stream",
          "name": "stdout",
          "text": [
            "Result is 11.235955056179776\n",
            "Result is 9.803921568627452\n",
            "Division by Zero\n",
            "Result is 4.273504273504273\n",
            "Result is 14.925373134328359\n",
            "Result is 100.0\n",
            "Result is 3.003003003003003\n",
            "Result is 31.25\n"
          ]
        }
      ]
    },
    {
      "cell_type": "code",
      "metadata": {
        "id": "oxqWV1jFCA5N"
      },
      "source": [
        "# Nested for loops\n",
        "rows = 6\n",
        "for i in range (1, rows):\n",
        "    for j in range (0, rows -i):\n",
        "        #print spaces, end='' ensures control \n",
        "        # remains on the same line\n",
        "        print(' ', end='')\n",
        "    for k in range (0, i):\n",
        "        print('* ', end='')\n",
        "    print()"
      ],
      "execution_count": null,
      "outputs": []
    },
    {
      "cell_type": "markdown",
      "metadata": {
        "id": "p0JBXne37bKc"
      },
      "source": [
        "## Program 1"
      ]
    },
    {
      "cell_type": "code",
      "metadata": {
        "colab": {
          "base_uri": "https://localhost:8080/"
        },
        "id": "TBUonLk87AVh",
        "outputId": "aedb2984-aaa2-461f-f495-04ad3322041b"
      },
      "source": [
        "from abc import ABC, abstractmethod\n",
        "\n",
        "# https://docs.python.org/3/library/abc.html\n",
        "\n",
        "class Payment(ABC):\n",
        "\n",
        "  @abstractmethod\n",
        "  def billpay(self, amount):\n",
        "    pass\n",
        "\n",
        "class CreditCardPayment(Payment):\n",
        "  def billpay(self, amount):\n",
        "    print('Credit card payment of - ', amount)\n",
        "\n",
        "class MobileWalletPayment(Payment):\n",
        "  def billpay(self, amount):\n",
        "    print('Mobile wallet payment of - ', amount)\n",
        "\n",
        "obj = CreditCardPayment()\n",
        "obj.billpay(100)\n",
        "\n",
        "obj = MobileWalletPayment()\n",
        "obj.billpay(200)\n"
      ],
      "execution_count": null,
      "outputs": [
        {
          "output_type": "stream",
          "name": "stdout",
          "text": [
            "Credit card payment of -  100\n",
            "Mobile wallet payment of -  200\n"
          ]
        }
      ]
    },
    {
      "cell_type": "markdown",
      "metadata": {
        "id": "OnhUfey-7Vt3"
      },
      "source": [
        "## Program 2 \n"
      ]
    },
    {
      "cell_type": "markdown",
      "metadata": {
        "id": "QiPqgml59YEd"
      },
      "source": [
        ""
      ]
    },
    {
      "cell_type": "code",
      "metadata": {
        "id": "UcyvVUxt7YCG"
      },
      "source": [
        "from abc import ABC, abstractmethod\n",
        "class Payment(ABC):\n",
        "  def print_slip(self, amount):\n",
        "    print('Purchase of amount- ', amount)\n",
        "  @abstractmethod\n",
        "  def payment(self, amount):\n",
        "    pass\n",
        "\n",
        "class CreditCardPayment(Payment):\n",
        "  def payment(self, amount):\n",
        "    print('Credit card payment of- ', amount)\n",
        "\n",
        "class MobileWalletPayment(Payment):\n",
        "  def payment(self, amount):\n",
        "    print('Mobile wallet payment of- ', amount)\n",
        "\n",
        "obj = CreditCardPayment()\n",
        "obj.payment(100)\n",
        "obj.print_slip(100)\n",
        "print(isinstance(obj, Payment))\n",
        "obj = MobileWalletPayment()\n",
        "obj.payment(200)\n",
        "obj.print_slip(200)\n",
        "print(isinstance(obj, Payment))"
      ],
      "execution_count": null,
      "outputs": []
    },
    {
      "cell_type": "markdown",
      "metadata": {
        "id": "1KlMWca2-LgS"
      },
      "source": [
        "## Method overriding"
      ]
    },
    {
      "cell_type": "code",
      "metadata": {
        "id": "p2908cSj9oGC"
      },
      "source": [
        "class Person:\n",
        "  def __init__(self, name, age):\n",
        "    self.name = name\n",
        "    self.age = age\n",
        "\n",
        "  def displayData(self):\n",
        "    print('In parent class displayData method')\n",
        "    print(self.name)\n",
        "    print(self.age)\n",
        "\n",
        "class Employee(Person):\n",
        "  def __init__(self, name, age, id):\n",
        "    # calling constructor of super class\n",
        "    super().__init__(name, age)\n",
        "    self.empId = id\n",
        "\n",
        "  def displayData(self):\n",
        "    print('In child class displayData method')\n",
        "    print(self.name)\n",
        "    print(self.age)\n",
        "    print(self.empId)\n",
        "\n",
        "#Person class object\n",
        "person = Person('Ram', 40)\n",
        "person.displayData()\n",
        "#Employee class object\n",
        "emp = Employee('Ram', 40, 'E005')\n",
        "emp.displayData()\n",
        "\n",
        "# https://www.netjstech.com/2019/05/method-overriding-in-python.html\n"
      ],
      "execution_count": null,
      "outputs": []
    }
  ]
}
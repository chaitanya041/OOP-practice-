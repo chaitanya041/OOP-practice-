{
  "nbformat": 4,
  "nbformat_minor": 0,
  "metadata": {
    "colab": {
      "name": "Copy of OOP-Encapsulation-Examples(3).cpp",
      "provenance": [],
      "collapsed_sections": [],
      "include_colab_link": true
    },
    "kernelspec": {
      "name": "python3",
      "display_name": "Python 3"
    },
    "language_info": {
      "name": "python"
    }
  },
  "cells": [
    {
      "cell_type": "markdown",
      "metadata": {
        "id": "view-in-github",
        "colab_type": "text"
      },
      "source": [
        "<a href=\"https://colab.research.google.com/github/chaitanya041/OOP-practice-/blob/main/Copy_of_OOP_Encapsulation_Examples(3)_cpp.ipynb\" target=\"_parent\"><img src=\"https://colab.research.google.com/assets/colab-badge.svg\" alt=\"Open In Colab\"/></a>"
      ]
    },
    {
      "cell_type": "markdown",
      "metadata": {
        "id": "uJ5_1takpF-I"
      },
      "source": [
        "## Program -1 - C++ - Encapsulation - Public variables \n",
        "####  write your code and execute"
      ]
    },
    {
      "cell_type": "markdown",
      "metadata": {
        "id": "evsJRJQZUE0U"
      },
      "source": [
        "## Program 2 - C++ - Encapsulation- Private Variables "
      ]
    },
    {
      "cell_type": "code",
      "metadata": {
        "id": "R1ymTymC8V4r"
      },
      "source": [
        ""
      ],
      "execution_count": null,
      "outputs": []
    },
    {
      "cell_type": "code",
      "metadata": {
        "id": "DE6kYwFdwzK0",
        "colab": {
          "base_uri": "https://localhost:8080/"
        },
        "outputId": "73ccdd66-5f06-4f96-e192-770b9e0ac5dd"
      },
      "source": [
        "%%writefile OOP-Encapsulation-Examples.cpp\n",
        "#include<iostream>\n",
        "using namespace std;\n",
        "class ExampleEncap{\n",
        "private:\n",
        "   /* Since we have marked these data members private, any entity outside this class cannot access these\n",
        "    * data members directly, they have to use getter and setter functions. */\n",
        "   int num;\n",
        "   char ch;\n",
        "public:\n",
        "   /* Getter functions to get the value of data members. Since these functions are public, they can be accessed\n",
        "    * outside the class, thus provide the access to data members through them.  */\n",
        "   int getNum() const {\n",
        "      return num;\n",
        "   }\n",
        "   char getCh() const {\n",
        "      return ch;\n",
        "   }\n",
        "   /* Setter functions, they are called for assigning the values to the private data members.*/\n",
        "   void setNum(int num) {\n",
        "      this->num = num;\n",
        "   }\n",
        "   void setCh(char ch) {\n",
        "      this->ch = ch;\n",
        "   }\n",
        "};\n",
        "int main(){\n",
        "   ExampleEncap obj;\n",
        "   obj.setNum(100);\n",
        "   obj.setCh('A');\n",
        "   cout<<obj.getNum()<<endl;\n",
        "   cout<<obj.getCh()<<endl;\n",
        "   return 0;\n",
        "}"
      ],
      "execution_count": 6,
      "outputs": [
        {
          "output_type": "stream",
          "name": "stdout",
          "text": [
            "Overwriting OOP-Encapsulation-Examples.cpp\n"
          ]
        }
      ]
    },
    {
      "cell_type": "code",
      "metadata": {
        "id": "Z6dZrcmXxPFL",
        "colab": {
          "base_uri": "https://localhost:8080/"
        },
        "outputId": "f3859641-1ab1-4836-8e01-22e30192d049"
      },
      "source": [
        "%%shell\n",
        "g++ OOP-Encapsulation-Examples.cpp -o output5\n",
        "./output5"
      ],
      "execution_count": 7,
      "outputs": [
        {
          "output_type": "stream",
          "name": "stdout",
          "text": [
            "100\n",
            "A\n"
          ]
        },
        {
          "output_type": "execute_result",
          "data": {
            "text/plain": [
              ""
            ]
          },
          "metadata": {},
          "execution_count": 7
        }
      ]
    },
    {
      "cell_type": "markdown",
      "metadata": {
        "id": "-7UwhfCnUpfO"
      },
      "source": [
        "## Problem 3 - C++ - Encapsulation - Constructor"
      ]
    },
    {
      "cell_type": "code",
      "metadata": {
        "id": "eeFJu-nRqmZO",
        "colab": {
          "base_uri": "https://localhost:8080/"
        },
        "outputId": "fbe47412-60bb-4f47-b02c-6ef689aa5aec"
      },
      "source": [
        "%%writefile OOP-Encapsulation-Examples.cpp\n",
        "#include <iostream>\n",
        "using namespace std;\n",
        "class Adder {\n",
        "   public:\n",
        "      Adder(int i = 0) {             // constructor\n",
        "         total = i;\n",
        "      }\n",
        "      void addNum(int number) {         // interface to outside world\n",
        "         total += number;\n",
        "      }\n",
        "      int getTotal() {         // interface to outside world\n",
        "         return total;\n",
        "      };  \n",
        "   private:\n",
        "      // hidden data from outside world\n",
        "      int total;\n",
        "};\n",
        "int main() {\n",
        "   Adder obj1;  \n",
        "   obj1.addNum(10);\n",
        "   obj1.addNum(20);\n",
        "   obj1.addNum(30);\n",
        "   cout << \"Total \" << obj1.getTotal() <<endl;\n",
        "   return 0;\n",
        "}         "
      ],
      "execution_count": 8,
      "outputs": [
        {
          "output_type": "stream",
          "name": "stdout",
          "text": [
            "Overwriting OOP-Encapsulation-Examples.cpp\n"
          ]
        }
      ]
    },
    {
      "cell_type": "code",
      "metadata": {
        "id": "f_4xjmnvqrsy",
        "colab": {
          "base_uri": "https://localhost:8080/"
        },
        "outputId": "6936f05a-44f3-4f9e-9f08-7601fcda6f80"
      },
      "source": [
        "%%shell\n",
        "g++ OOP-Encapsulation-Examples.cpp -o output2\n",
        "./output2"
      ],
      "execution_count": 9,
      "outputs": [
        {
          "output_type": "stream",
          "name": "stdout",
          "text": [
            "Total 60\n"
          ]
        },
        {
          "output_type": "execute_result",
          "data": {
            "text/plain": [
              ""
            ]
          },
          "metadata": {},
          "execution_count": 9
        }
      ]
    },
    {
      "cell_type": "markdown",
      "metadata": {
        "id": "3nIiEVb_U3iN"
      },
      "source": [
        "## Problem 4 - C++ - Encapsulation - Private variables and Public funcions"
      ]
    },
    {
      "cell_type": "code",
      "metadata": {
        "id": "B2QcTfoTfoUO",
        "colab": {
          "base_uri": "https://localhost:8080/"
        },
        "outputId": "1ce3604d-53f0-4abc-a9a2-52ee5782d941"
      },
      "source": [
        "%%writefile OOP-Encapsulation-Examples.cpp\n",
        "#include <iostream>\n",
        "using namespace std;\n",
        "\n",
        "class Rectangle {\n",
        "   private:\n",
        "    int length;        // Variables required for area calculation\n",
        "    int breadth;\n",
        "   public:\n",
        "    void setLength(int len) {       // Setter function for length\n",
        "      length = len;\n",
        "    }\n",
        "    void setBreadth(int brth) {       // Setter function for breadth\n",
        "      breadth = brth;\n",
        "    }\n",
        "    int getLength() {         // Getter function for length\n",
        "      return length;\n",
        "    }\n",
        "    int getBreadth() {      // Getter function for breadth\n",
        "      return breadth;\n",
        "    }\n",
        "    int getArea() {           // Function to calculate area\n",
        "      return length * breadth;\n",
        "    }\n",
        "};\n",
        "int main() {\n",
        "  Rectangle rectangle1;       // Create object of Rectangle class\n",
        "  rectangle1.setLength(12);     // Initialize length using Setter function\n",
        "  rectangle1.setBreadth(15);    // Initialize breadth using Setter function\n",
        "  cout << \"Length = \" << rectangle1.getLength() << endl;     // Access length using Getter function\n",
        "  cout << \"Breadth = \" << rectangle1.getBreadth() << endl;   // Access breadth using Getter function\n",
        "  cout << \"Area = \" << rectangle1.getArea();     // Call getArea() function\n",
        "  return 0;\n",
        "}"
      ],
      "execution_count": 10,
      "outputs": [
        {
          "output_type": "stream",
          "name": "stdout",
          "text": [
            "Overwriting OOP-Encapsulation-Examples.cpp\n"
          ]
        }
      ]
    },
    {
      "cell_type": "code",
      "metadata": {
        "id": "Mf-PfXftf2rU",
        "colab": {
          "base_uri": "https://localhost:8080/"
        },
        "outputId": "93abbe0e-14e7-42f3-962a-d988a23c5edb"
      },
      "source": [
        "%%shell\n",
        "g++ OOP-Encapsulation-Examples.cpp -o output2\n",
        "./output2"
      ],
      "execution_count": 11,
      "outputs": [
        {
          "output_type": "stream",
          "name": "stdout",
          "text": [
            "Length = 12\n",
            "Breadth = 15\n",
            "Area = 180"
          ]
        },
        {
          "output_type": "execute_result",
          "data": {
            "text/plain": [
              ""
            ]
          },
          "metadata": {},
          "execution_count": 11
        }
      ]
    },
    {
      "cell_type": "markdown",
      "metadata": {
        "id": "mwlzWnP8pQyO"
      },
      "source": [
        "## Program - 5 - Python"
      ]
    },
    {
      "cell_type": "code",
      "metadata": {
        "id": "0i5kGP-UmfZP",
        "colab": {
          "base_uri": "https://localhost:8080/"
        },
        "outputId": "5e7a72f3-7b63-4a46-fc2e-90184ab67c2d"
      },
      "source": [
        "\n",
        "# A Sample class with init method  \n",
        "class Country:  \n",
        "      \n",
        "    # init method or constructor   \n",
        "    def __init__(self,name):  \n",
        "        self.name = name \n",
        "      \n",
        "    # Sample Method   \n",
        "    def say_name(self):  \n",
        "        print('Hello, Country name is', self.name)  \n",
        "  \n",
        "# Creating different objects     \n",
        "c1 = Country('UK') \n",
        "c2 = Country('USA')\n",
        "c3 = Country('India')\n",
        "  \n",
        "c1.say_name()  \n",
        "c2.say_name()\n",
        "c3.say_name()\n"
      ],
      "execution_count": 12,
      "outputs": [
        {
          "output_type": "stream",
          "name": "stdout",
          "text": [
            "Hello, Country name is UK\n",
            "Hello, Country name is USA\n",
            "Hello, Country name is India\n"
          ]
        }
      ]
    },
    {
      "cell_type": "markdown",
      "metadata": {
        "id": "ScWWBA2Ce9-f"
      },
      "source": [
        "## Program 6 - Python"
      ]
    },
    {
      "cell_type": "code",
      "metadata": {
        "id": "k5B85TEajukK",
        "colab": {
          "base_uri": "https://localhost:8080/"
        },
        "outputId": "d9675165-3ca2-4dba-e825-1e83f15d6148"
      },
      "source": [
        "#!/usr/bin/env python          \n",
        "\n",
        "class Car:\n",
        "    __maxspeed = 0\n",
        "    __name = \"\"    \n",
        "    def __init__(self):\n",
        "        self.__maxspeed = 400\n",
        "        self.__name = \"Supercar\"    \n",
        "    def drive(self):\n",
        "        print('driving. maxspeed ' + str(self.__maxspeed))\n",
        "    \n",
        "\n",
        "redcar = Car()\n",
        "redcar.drive()\n",
        "mxspeed =10\n",
        "redcar.__maxspeed = 10        # will not change variable because its private\n",
        "redcar.drive()"
      ],
      "execution_count": 13,
      "outputs": [
        {
          "output_type": "stream",
          "name": "stdout",
          "text": [
            "driving. maxspeed 400\n",
            "driving. maxspeed 400\n"
          ]
        }
      ]
    },
    {
      "cell_type": "markdown",
      "metadata": {
        "id": "E3vOe0MDfEeq"
      },
      "source": [
        "## Program 7 - Python"
      ]
    },
    {
      "cell_type": "code",
      "metadata": {
        "id": "S-scYdJIkOOf",
        "colab": {
          "base_uri": "https://localhost:8080/"
        },
        "outputId": "f65c944b-2d07-4798-c8b5-9a6516f1e499"
      },
      "source": [
        "# Python program to demonstrate private members\n",
        " \n",
        "# Creating a Base class\n",
        "class Base:\n",
        "    def __init__(self):\n",
        "        self.a = \"OOP Course\"\n",
        "        self.__c = \"IIIT DWD\"\n",
        "        print(\"Calling private member of base class: \")\n",
        "        print(self.__c)\n",
        "# Driver code\n",
        "obj1 = Base()\n",
        "print(obj1.a)"
      ],
      "execution_count": 14,
      "outputs": [
        {
          "output_type": "stream",
          "name": "stdout",
          "text": [
            "Calling private member of base class: \n",
            "IIIT DWD\n",
            "OOP Course\n"
          ]
        }
      ]
    },
    {
      "cell_type": "code",
      "metadata": {
        "id": "k0gXf_1chSfk",
        "colab": {
          "base_uri": "https://localhost:8080/"
        },
        "outputId": "e7ba9cf2-3377-4951-84c9-8b687b7ea61e"
      },
      "source": [
        "# Python program to demonstrate private members\n",
        " \n",
        "# Creating a Base class\n",
        "class Base:\n",
        "    def __init__(self):\n",
        "        self.a = \"OOP Course\"\n",
        "        self.__c = \"IIIT DWD\"\n",
        "# Creating a derived class\n",
        "class Derived(Base):\n",
        "    def __init__(self):   \n",
        "        # Calling constructor of Base class\n",
        "        Base.__init__(self)\n",
        "        print(\"Calling private member of base class: \")\n",
        "        print(self.__c)\n",
        "# Driver code\n",
        "obj1 = Base()\n",
        "print(obj1.a)\n",
        "obj1.__init__()\n"
      ],
      "execution_count": 15,
      "outputs": [
        {
          "output_type": "stream",
          "name": "stdout",
          "text": [
            "OOP Course\n"
          ]
        }
      ]
    },
    {
      "cell_type": "markdown",
      "metadata": {
        "id": "GYmUhLWcfJZf"
      },
      "source": [
        "## Program 8 - C++"
      ]
    },
    {
      "cell_type": "code",
      "metadata": {
        "id": "3Z2r4ymoRoRn",
        "colab": {
          "base_uri": "https://localhost:8080/"
        },
        "outputId": "4d646c84-9b12-4efc-ef4c-d5bdfe55f9ba"
      },
      "source": [
        "%%writefile OOP-Encapsulation-Examples.cpp\n",
        "#include <iostream>\n",
        "using namespace std;\n",
        "\n",
        "class stud \n",
        "{\n",
        "    public:\n",
        "    char name[30],clas[10];\n",
        "    int rol,age;\n",
        "\n",
        "    void enter() \n",
        "    { \n",
        "        cout<<\"Enter Student Name: \"; cin>>name;    \n",
        "        cout<<\"Enter Student Age: \"; cin>>age;        \n",
        "        cout<<\"Enter Student Roll number: \"; cin>>rol;        \n",
        "        cout<<\"Enter Student Class: \"; cin>>clas;\n",
        "    }\n",
        "    \n",
        "    void display() \n",
        "    {\n",
        "        cout<<\"\\n Age\\tName\\tR.No.\\tClass\";\n",
        "        cout<<\"\\n\"<<age<<\"\\t\"<<name<<\"\\t\"<<rol<<\"\\t\"<<clas; \n",
        "    }\n",
        "};\n",
        "\n",
        "int main()\n",
        "{\n",
        "    class stud s;\n",
        "    s.enter();\n",
        "    s.display();\n",
        "    cin.get();//use this to wait for a keypress \n",
        "} \n"
      ],
      "execution_count": 16,
      "outputs": [
        {
          "output_type": "stream",
          "name": "stdout",
          "text": [
            "Overwriting OOP-Encapsulation-Examples.cpp\n"
          ]
        }
      ]
    },
    {
      "cell_type": "code",
      "metadata": {
        "id": "v5xbIrU3R9xc",
        "colab": {
          "base_uri": "https://localhost:8080/"
        },
        "outputId": "bd215808-c98d-4790-f0f4-64ab7e56793f"
      },
      "source": [
        "%%shell\n",
        "g++ OOP-Encapsulation-Examples.cpp -o output2\n",
        "./output2"
      ],
      "execution_count": 17,
      "outputs": [
        {
          "output_type": "stream",
          "name": "stdout",
          "text": [
            "Enter Student Name: chaitanya\n",
            "Enter Student Age: 21\n",
            "Enter Student Roll number: 41\n",
            "Enter Student Class: 1\n",
            "\n",
            " Age\tName\tR.No.\tClass\n",
            "21\tchaitanya\t41\t1"
          ]
        },
        {
          "output_type": "execute_result",
          "data": {
            "text/plain": [
              ""
            ]
          },
          "metadata": {},
          "execution_count": 17
        }
      ]
    },
    {
      "cell_type": "markdown",
      "metadata": {
        "id": "NaxQA2lUfcQb"
      },
      "source": [
        "## Program 9 - Python"
      ]
    },
    {
      "cell_type": "code",
      "metadata": {
        "id": "XN-FrfLFYdj8",
        "colab": {
          "base_uri": "https://localhost:8080/"
        },
        "outputId": "ed99ca97-b2c2-4e6f-94e7-637648ce5eaf"
      },
      "source": [
        "class student:\n",
        "  count=0\n",
        "  def __init__(self,num) :\n",
        "    student.count=student.count+num\n",
        "    print(student.count)\n",
        "s1=student(4)\n",
        "s2=student(5)\n",
        "s3=student(6)\n",
        "\n",
        "print(\"number of students in OOP class :\", student.count)\n",
        "print(\"number of students in OOP class:\", s1.count)              #doubt \n",
        "\n",
        " "
      ],
      "execution_count": 18,
      "outputs": [
        {
          "output_type": "stream",
          "name": "stdout",
          "text": [
            "4\n",
            "9\n",
            "15\n",
            "number of students in OOP class : 15\n",
            "number of students in OOP class: 15\n"
          ]
        }
      ]
    },
    {
      "cell_type": "markdown",
      "metadata": {
        "id": "a7n8BTUZflAk"
      },
      "source": [
        "Program -  10 - Python"
      ]
    },
    {
      "cell_type": "code",
      "metadata": {
        "id": "pOMLb505cEx3",
        "colab": {
          "base_uri": "https://localhost:8080/"
        },
        "outputId": "d9310771-448c-4a1a-d42d-11afcd266ecf"
      },
      "source": [
        "# Example non parametrized constructors\n",
        "class student:\n",
        "  count=0\n",
        "  def __init__(self) :\n",
        "    print(\"This is non parametrized constructor with no arguments or parameters\") \n",
        "\n",
        "  def shownum(self,num):\n",
        "       print(\"number of students in OOP class :\", num * num)\n",
        "       return num\n",
        "s1=student()\n",
        "s2=student()\n",
        "s3=student()\n",
        "\n",
        "result1= s1.shownum(5)\n",
        "result2= s2.shownum(6)\n",
        "\n",
        "print(\"number of students in OOP class :\", result1,result2)\n"
      ],
      "execution_count": 19,
      "outputs": [
        {
          "output_type": "stream",
          "name": "stdout",
          "text": [
            "This is non parametrized constructor with no arguments or parameters\n",
            "This is non parametrized constructor with no arguments or parameters\n",
            "This is non parametrized constructor with no arguments or parameters\n",
            "number of students in OOP class : 25\n",
            "number of students in OOP class : 36\n",
            "number of students in OOP class : 5 6\n"
          ]
        }
      ]
    },
    {
      "cell_type": "markdown",
      "metadata": {
        "id": "SBFN_t2VfpP1"
      },
      "source": [
        "## Program 11 - Python"
      ]
    },
    {
      "cell_type": "code",
      "metadata": {
        "id": "ivnhl-RI7FhS",
        "colab": {
          "base_uri": "https://localhost:8080/"
        },
        "outputId": "025add10-f0d1-405b-aaa4-c1a5f7432614"
      },
      "source": [
        "# Example parametrized constructors\n",
        "class student:\n",
        "  count=0\n",
        "  def __init__(self,stname,stage) :\n",
        "    self.name = stname\n",
        "    self.age = stage\n",
        "    print(\"This is parametrized constructor with no arguments or parameters\") \n",
        "\n",
        "  def display(self,styear):\n",
        "       print(\"Student joined IIIT Dharwad   :\", self.name,',', self.age,',', styear)\n",
        "       if styear <= 2020 :\n",
        "         print (\"Student has completed the course\")\n",
        "       return \n",
        "s1=student(\"Ram\",21)\n",
        "s2=student(\"Krishna\",23)\n",
        "s3=student(\"Kumar\",22)\n",
        "\n",
        "s1.display(2021)\n",
        "s2.display(2019)"
      ],
      "execution_count": 20,
      "outputs": [
        {
          "output_type": "stream",
          "name": "stdout",
          "text": [
            "This is parametrized constructor with no arguments or parameters\n",
            "This is parametrized constructor with no arguments or parameters\n",
            "This is parametrized constructor with no arguments or parameters\n",
            "Student joined IIIT Dharwad   : Ram , 21 , 2021\n",
            "Student joined IIIT Dharwad   : Krishna , 23 , 2019\n",
            "Student has completed the course\n"
          ]
        }
      ]
    },
    {
      "cell_type": "markdown",
      "metadata": {
        "id": "VOh8PIJzftpM"
      },
      "source": [
        "## Python - 12 - Python"
      ]
    },
    {
      "cell_type": "code",
      "metadata": {
        "id": "fp5Zj4aY88Kq",
        "colab": {
          "base_uri": "https://localhost:8080/"
        },
        "outputId": "7d9dc0f4-b560-47bd-8e96-181d9d106415"
      },
      "source": [
        "# Python Default Constructor\n",
        "# Example parametrized constructors \n",
        "class student:\n",
        "    name = \"Ram\"\n",
        "    age =  21\n",
        "\n",
        "    def display(self,styear):\n",
        "       print(\"Student joined IIIT Dharwad :\", self.name, self.age, styear)\n",
        "       if styear <= 2020 :\n",
        "         print (\"Student has completed the course\")\n",
        "       return \n",
        "s1=student()\n",
        "s2=student()\n",
        "s3=student()\n",
        "\n",
        "s1.display(2021)\n",
        "s2.display(2019)"
      ],
      "execution_count": 21,
      "outputs": [
        {
          "output_type": "stream",
          "name": "stdout",
          "text": [
            "Student joined IIIT Dharwad : Ram 21 2021\n",
            "Student joined IIIT Dharwad : Ram 21 2019\n",
            "Student has completed the course\n"
          ]
        }
      ]
    },
    {
      "cell_type": "code",
      "metadata": {
        "id": "YCKNbRJXR-zF"
      },
      "source": [
        ""
      ],
      "execution_count": 21,
      "outputs": []
    },
    {
      "cell_type": "markdown",
      "metadata": {
        "id": "eX7oWTcugzPV"
      },
      "source": [
        "##Python - 13 - Python - Exercise \n",
        "#### write your code in Python and create a parametrized constructor "
      ]
    },
    {
      "cell_type": "code",
      "metadata": {
        "colab": {
          "base_uri": "https://localhost:8080/"
        },
        "id": "Z7Ea0Gmcfb9u",
        "outputId": "89ac220f-cf2a-4e80-c984-4192732c9de5"
      },
      "source": [
        "class bmi:\n",
        "  def __init__(self,age,height,weight):\n",
        "    self.weight_in_kg = weight \n",
        "    self.age = age\n",
        "    self.height_in_meters = height\n",
        "  def your_bmi(self):\n",
        "    bmi = float(self.weight_in_kg) /float(self.height_in_meters*self.height_in_meters)\n",
        "    print(bmi)\n",
        "    if bmi<18.5:\n",
        "      print('your under weight')\n",
        "    elif 18.5<bmi<25:\n",
        "      print(\"normal\")\n",
        "    elif 25<bmi<30:\n",
        "      print(\"overweight\")\n",
        "    elif 30<bmi:\n",
        "      print(\"obese\")\n",
        "\n",
        "a = bmi(23,1.767,70)\n",
        "a.your_bmi()"
      ],
      "execution_count": 22,
      "outputs": [
        {
          "output_type": "stream",
          "name": "stdout",
          "text": [
            "22.419449320674673\n",
            "normal\n"
          ]
        }
      ]
    }
  ]
}